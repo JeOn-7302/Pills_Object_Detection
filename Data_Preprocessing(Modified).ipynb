{
 "cells": [
  {
   "cell_type": "code",
   "execution_count": 2,
   "id": "ba1823b9-0485-448c-86d9-9ee565147b24",
   "metadata": {},
   "outputs": [],
   "source": [
    "# Data Manipulation and Numerical Libraries\n",
    "import numpy as np\n",
    "import pandas as pd\n",
    "\n",
    "# Deep Learning Libraries (PyTorch)\n",
    "import torch\n",
    "import torch.nn as nn\n",
    "import torchvision\n",
    "from torch.utils.data import Dataset, DataLoader\n",
    "from torchvision import transforms\n",
    "from torchvision import models\n",
    "\n",
    "# Data Preprocessing and Utilities\n",
    "from sklearn.model_selection import train_test_split\n",
    "from ultralytics import YOLO\n",
    "\n",
    "# Image Processing and Visualization\n",
    "import cv2\n",
    "import matplotlib.pyplot as plt\n",
    "from PIL import Image\n",
    "\n",
    "# sys\n",
    "import os\n",
    "from glob import glob\n",
    "from pathlib import Path\n",
    "from shutil import copy2\n",
    "import json\n",
    "\n",
    "import warnings\n",
    "warnings.filterwarnings('ignore', category=FutureWarning)"
   ]
  },
  {
   "cell_type": "markdown",
   "id": "d4949431-1f05-48ec-a3f1-f9ca8b3d0731",
   "metadata": {},
   "source": [
    "# 데이터 전처리"
   ]
  },
  {
   "cell_type": "code",
   "execution_count": 4,
   "id": "ff982f3f-4bd6-480b-9be4-d48f11a20765",
   "metadata": {},
   "outputs": [],
   "source": [
    "# 경로 설정 (사용자 맞춤 절대 경로)\n",
    "ANNOTATIONS_DIR = Path(\"./data/ai02-level1-project/train_annotations\")\n",
    "IMAGES_DIR = Path(\"./data/ai02-level1-project/train_images\")\n",
    "OUTPUT_DIR = Path(\"./data/project_yolo\")\n",
    "OUTPUT_IMAGE_TRAIN = OUTPUT_DIR / \"images\" / \"train\"\n",
    "OUTPUT_IMAGE_VAL = OUTPUT_DIR / \"images\" / \"val\"\n",
    "OUTPUT_LABEL = OUTPUT_DIR / \"labels\"   # 추가함\n",
    "OUTPUT_LABEL_TRAIN = OUTPUT_DIR / \"labels\" / \"train\"\n",
    "OUTPUT_LABEL_VAL = OUTPUT_DIR / \"labels\" / \"val\"\n",
    "DATA_YAML_PATH = OUTPUT_DIR / \"data.yaml\""
   ]
  },
  {
   "cell_type": "code",
   "execution_count": 6,
   "id": "e5efce0c-edc2-4511-b2cc-bf7fb896318c",
   "metadata": {},
   "outputs": [],
   "source": [
    "# 검증 데이터 비율\n",
    "VAL_RATIO = 0.2 "
   ]
  },
  {
   "cell_type": "code",
   "execution_count": 8,
   "id": "f28de9c3-3365-4718-9945-ef0214029678",
   "metadata": {},
   "outputs": [],
   "source": [
    "# bbox 정의\n",
    "def convert_bbox_coco_to_yolo(bbox, image_width, image_height):\n",
    "    x, y, w, h = bbox\n",
    "    x_center = x + w / 2\n",
    "    y_center = y + h / 2\n",
    "    return [\n",
    "        round(x_center / image_width, 6),\n",
    "        round(y_center / image_height, 6),\n",
    "        round(w / image_width, 6),\n",
    "        round(h / image_height, 6)\n",
    "    ]"
   ]
  },
  {
   "cell_type": "code",
   "execution_count": 10,
   "id": "e6320e04-075f-42e0-908a-27fa4d92bbad",
   "metadata": {},
   "outputs": [],
   "source": [
    "def process_annotation(json_path):\n",
    "    with open(json_path, \"r\", encoding=\"utf-8\") as f:\n",
    "        data = json.load(f)\n",
    "\n",
    "    image_info = data.get(\"images\", [{}])[0]\n",
    "    image_name = image_info.get(\"file_name\")\n",
    "    image_width = image_info.get(\"width\")\n",
    "    image_height = image_info.get(\"height\")\n",
    "    annotations = data.get(\"annotations\", [])\n",
    "\n",
    "    yolo_lines = []\n",
    "    for ann in annotations:\n",
    "        if \"bbox\" not in ann or not ann[\"bbox\"]:\n",
    "            continue\n",
    "        bbox = convert_bbox_coco_to_yolo(ann[\"bbox\"], image_width, image_height)\n",
    "        class_id = ann.get(\"category_id\", 0)\n",
    "        yolo_lines.append(f\"{class_id} {' '.join(map(str, bbox))}\")\n",
    "\n",
    "    return image_name, yolo_lines"
   ]
  },
  {
   "cell_type": "code",
   "execution_count": 13,
   "id": "95732e59-2451-44ff-939a-fc8dadf0aecc",
   "metadata": {},
   "outputs": [],
   "source": [
    "def prepare_output_dirs():\n",
    "    OUTPUT_IMAGE_TRAIN.mkdir(parents=True, exist_ok=True)\n",
    "    OUTPUT_IMAGE_VAL.mkdir(parents=True, exist_ok=True)\n",
    "    OUTPUT_LABEL_TRAIN.mkdir(parents=True, exist_ok=True)\n",
    "    OUTPUT_LABEL_VAL.mkdir(parents=True, exist_ok=True)"
   ]
  },
  {
   "cell_type": "code",
   "execution_count": 15,
   "id": "32f9f40e-4224-4140-8f00-80547d9b5234",
   "metadata": {},
   "outputs": [],
   "source": [
    "# 추가함\n",
    "def extract_categories(annotations_dir):\n",
    "    category_map = {}\n",
    "    for root, _, files in os.walk(annotations_dir):\n",
    "        for file in files:\n",
    "            if not file.endswith(\".json\"):\n",
    "                continue\n",
    "            json_path = Path(root) / file\n",
    "            try:\n",
    "                with open(json_path, 'r', encoding='utf-8') as f:\n",
    "                    data = json.load(f)\n",
    "                    categories = data.get(\"categories\", [])\n",
    "                    for cat in categories:\n",
    "                        cat_id = cat[\"id\"]\n",
    "                        cat_name = cat[\"name\"]\n",
    "                        category_map[cat_id] = cat_name\n",
    "            except Exception as e:\n",
    "                print(f\"<카테고리 파싱 실패>: {file} → {e}\")\n",
    "    return dict(sorted(category_map.items()))  # id순 정렬"
   ]
  },
  {
   "cell_type": "code",
   "execution_count": null,
   "id": "68e89569-c91e-4562-87c1-3a8f86263b9c",
   "metadata": {},
   "outputs": [],
   "source": [
    "# 변경함\n",
    "def generate_yaml(category_map):\n",
    "    nc = len(category_map)\n",
    "    names = [f\"'{category_map[cid]}'\" for cid in sorted(category_map)]\n",
    "    content = f\"\"\"path: {OUTPUT_DIR.resolve()}\n",
    "                  train: images/train\n",
    "                  val: images/val\n",
    "                  nc: {nc}\n",
    "                  names: [{', '.join(names)}]\n",
    "                  \"\"\"\n",
    "    with open(DATA_YAML_PATH, \"w\", encoding=\"utf-8\") as f:\n",
    "        f.write(content)"
   ]
  },
  {
   "cell_type": "code",
   "execution_count": null,
   "id": "dedcb8b6-3322-434e-a178-bf5ff48745f0",
   "metadata": {},
   "outputs": [],
   "source": [
    "# 추가한 함수들을 반영하기 위해서 수정함\n",
    "def run():\n",
    "    prepare_output_dirs()\n",
    "    all_items = []\n",
    "\n",
    "    for root, _, files in os.walk(ANNOTATIONS_DIR):\n",
    "        for file in files:\n",
    "            if not file.endswith(\".json\"):\n",
    "                continue\n",
    "            json_path = Path(root) / file\n",
    "            try:\n",
    "                image_name, yolo_labels = process_annotation(json_path)\n",
    "                if yolo_labels:\n",
    "                    all_items.append((json_path, image_name, yolo_labels))\n",
    "            except Exception as e:\n",
    "                print(f\"<실패>: {json_path.name} → {e}\")\n",
    "\n",
    "    random.shuffle(all_items)\n",
    "    val_count = int(len(all_items) * VAL_RATIO)\n",
    "\n",
    "    for idx, (json_path, image_name, yolo_labels) in enumerate(all_items):\n",
    "        is_val = idx < val_count\n",
    "        image_src = IMAGES_DIR / image_name\n",
    "        image_dst = OUTPUT_IMAGE_VAL / image_name if is_val else OUTPUT_IMAGE_TRAIN / image_name\n",
    "        label_dst = OUTPUT_LABEL_VAL / image_name.replace(\".png\", \".txt\") if is_val else OUTPUT_LABEL_TRAIN / image_name.replace(\".png\", \".txt\")\n",
    "\n",
    "        if image_src.exists():\n",
    "            copy2(image_src, image_dst)\n",
    "            with open(label_dst, \"w\", encoding=\"utf-8\") as f:\n",
    "                f.write(\"\\n\".join(yolo_labels))\n",
    "\n",
    "    category_map = extract_categories(ANNOTATIONS_DIR)\n",
    "    generate_yaml(category_map)\n",
    "\n",
    "    print(f\"► 총 {len(all_items)}개 이미지 전처리 완료 (train/val split 포함)\")\n",
    "    print(f\"\\n► data.yaml 생성 완료 → {DATA_YAML_PATH}\")\n",
    "\n",
    "if __name__ == \"__main__\":\n",
    "    run()"
   ]
  }
 ],
 "metadata": {
  "kernelspec": {
   "display_name": "yolov5Kernel",
   "language": "python",
   "name": "yolov5"
  },
  "language_info": {
   "codemirror_mode": {
    "name": "ipython",
    "version": 3
   },
   "file_extension": ".py",
   "mimetype": "text/x-python",
   "name": "python",
   "nbconvert_exporter": "python",
   "pygments_lexer": "ipython3",
   "version": "3.8.18"
  }
 },
 "nbformat": 4,
 "nbformat_minor": 5
}
